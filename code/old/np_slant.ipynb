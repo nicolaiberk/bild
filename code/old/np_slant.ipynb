{
  "nbformat": 4,
  "nbformat_minor": 0,
  "metadata": {
    "colab": {
      "name": "np_slant.ipynb",
      "provenance": [],
      "collapsed_sections": [
        "9MUx6H2AWBvq"
      ],
      "mount_file_id": "1hzvDOZWkqYjYxVBLYQKx-V0EPnO2t72h",
      "authorship_tag": "ABX9TyMu5GudKNvPmtLsqw36L3Vz",
      "include_colab_link": true
    },
    "kernelspec": {
      "name": "python3",
      "display_name": "Python 3"
    },
    "language_info": {
      "name": "python"
    }
  },
  "cells": [
    {
      "cell_type": "markdown",
      "metadata": {
        "id": "view-in-github",
        "colab_type": "text"
      },
      "source": [
        "<a href=\"https://colab.research.google.com/github/nicolaiberk/bild/blob/main/np_slant.ipynb\" target=\"_parent\"><img src=\"https://colab.research.google.com/assets/colab-badge.svg\" alt=\"Open In Colab\"/></a>"
      ]
    },
    {
      "cell_type": "markdown",
      "metadata": {
        "id": "4Vc2N9EuUuK4"
      },
      "source": [
        "## Estimating migration slant in german newspapers using bert\n",
        "\n",
        "This notebook tries to estimate the sentiment in german newspapers' migration coverage over time. It will draw a subset of articles for each year, cut them into sentences, filter those containing migration-related terms (identified earlier using dictioary expansion with word embeddings), and estimate the sentiment in these sentences using BERT transformer models."
      ]
    },
    {
      "cell_type": "code",
      "metadata": {
        "colab": {
          "base_uri": "https://localhost:8080/"
        },
        "id": "FkVohd_ZmBGl",
        "outputId": "ca36c1a6-bc02-4acf-dcf5-54a37a4ba36a"
      },
      "source": [
        "!pip install transformers"
      ],
      "execution_count": 24,
      "outputs": [
        {
          "output_type": "stream",
          "text": [
            "Requirement already satisfied: transformers in /usr/local/lib/python3.7/dist-packages (4.6.0)\n",
            "Requirement already satisfied: numpy>=1.17 in /usr/local/lib/python3.7/dist-packages (from transformers) (1.19.5)\n",
            "Requirement already satisfied: sacremoses in /usr/local/lib/python3.7/dist-packages (from transformers) (0.0.45)\n",
            "Requirement already satisfied: importlib-metadata; python_version < \"3.8\" in /usr/local/lib/python3.7/dist-packages (from transformers) (4.0.1)\n",
            "Requirement already satisfied: packaging in /usr/local/lib/python3.7/dist-packages (from transformers) (20.9)\n",
            "Requirement already satisfied: tokenizers<0.11,>=0.10.1 in /usr/local/lib/python3.7/dist-packages (from transformers) (0.10.2)\n",
            "Requirement already satisfied: huggingface-hub==0.0.8 in /usr/local/lib/python3.7/dist-packages (from transformers) (0.0.8)\n",
            "Requirement already satisfied: requests in /usr/local/lib/python3.7/dist-packages (from transformers) (2.23.0)\n",
            "Requirement already satisfied: regex!=2019.12.17 in /usr/local/lib/python3.7/dist-packages (from transformers) (2019.12.20)\n",
            "Requirement already satisfied: filelock in /usr/local/lib/python3.7/dist-packages (from transformers) (3.0.12)\n",
            "Requirement already satisfied: tqdm>=4.27 in /usr/local/lib/python3.7/dist-packages (from transformers) (4.41.1)\n",
            "Requirement already satisfied: six in /usr/local/lib/python3.7/dist-packages (from sacremoses->transformers) (1.15.0)\n",
            "Requirement already satisfied: click in /usr/local/lib/python3.7/dist-packages (from sacremoses->transformers) (8.0.0)\n",
            "Requirement already satisfied: joblib in /usr/local/lib/python3.7/dist-packages (from sacremoses->transformers) (1.0.1)\n",
            "Requirement already satisfied: typing-extensions>=3.6.4; python_version < \"3.8\" in /usr/local/lib/python3.7/dist-packages (from importlib-metadata; python_version < \"3.8\"->transformers) (3.7.4.3)\n",
            "Requirement already satisfied: zipp>=0.5 in /usr/local/lib/python3.7/dist-packages (from importlib-metadata; python_version < \"3.8\"->transformers) (3.4.1)\n",
            "Requirement already satisfied: pyparsing>=2.0.2 in /usr/local/lib/python3.7/dist-packages (from packaging->transformers) (2.4.7)\n",
            "Requirement already satisfied: chardet<4,>=3.0.2 in /usr/local/lib/python3.7/dist-packages (from requests->transformers) (3.0.4)\n",
            "Requirement already satisfied: urllib3!=1.25.0,!=1.25.1,<1.26,>=1.21.1 in /usr/local/lib/python3.7/dist-packages (from requests->transformers) (1.24.3)\n",
            "Requirement already satisfied: certifi>=2017.4.17 in /usr/local/lib/python3.7/dist-packages (from requests->transformers) (2020.12.5)\n",
            "Requirement already satisfied: idna<3,>=2.5 in /usr/local/lib/python3.7/dist-packages (from requests->transformers) (2.10)\n"
          ],
          "name": "stdout"
        }
      ]
    },
    {
      "cell_type": "code",
      "metadata": {
        "colab": {
          "base_uri": "https://localhost:8080/"
        },
        "id": "Lpcorf7damnw",
        "outputId": "da1004e0-9d66-43e4-a3db-30ff69290777"
      },
      "source": [
        "import pandas as pd\n",
        "import nltk\n",
        "nltk.download('punkt')\n",
        "from nltk.tokenize import sent_tokenize\n",
        "from nltk.tokenize import word_tokenize\n",
        "import transformers\n",
        "from transformers import pipeline\n",
        "from transformers import AutoTokenizer, AutoModelForSequenceClassification\n",
        "import numpy as np"
      ],
      "execution_count": 25,
      "outputs": [
        {
          "output_type": "stream",
          "text": [
            "[nltk_data] Downloading package punkt to /root/nltk_data...\n",
            "[nltk_data]   Package punkt is already up-to-date!\n"
          ],
          "name": "stdout"
        }
      ]
    },
    {
      "cell_type": "code",
      "metadata": {
        "id": "j96FIEDyUrRa"
      },
      "source": [
        "# define input data and migration dictionary\n",
        "url_list = [\"https://www.dropbox.com/s/fg2j14sckivbv9e/_bild_articles.csv?dl=1\",\n",
        "            \"https://www.dropbox.com/s/gu74lpyys9g30vk/_faz_articles.csv?dl=1\",\n",
        "            \"https://www.dropbox.com/s/qqvd9qbgd16q6ny/_spon_articles.csv?dl=1\",\n",
        "            \"https://www.dropbox.com/s/53yeud52h3r1hc4/_sz_articles.csv?dl=1\",\n",
        "            \"https://www.dropbox.com/s/2atgbzx4dzbq6nd/_taz_articles.csv?dl=1\",\n",
        "            \"https://www.dropbox.com/s/c1gmzcriuh337vd/_weltonline_articles.csv?dl=1\"]\n",
        "paper_list = [\"bild\", \"faz\", \"spon\", \"sz\", \"taz\", \"weltonline\"]\n",
        "mig_dict = mig_dict = pd.read_csv(\"https://www.dropbox.com/s/65n22q1l19xkkmu/german_glove.csv?dl=1\", encoding=\"latin-1\")[\"x\"]"
      ],
      "execution_count": 26,
      "outputs": []
    },
    {
      "cell_type": "code",
      "metadata": {
        "id": "tJv0oRCblxXV"
      },
      "source": [
        "# setup BERT\n",
        "model_name = \"oliverguhr/german-sentiment-bert\"\n",
        "model = AutoModelForSequenceClassification.from_pretrained(model_name)\n",
        "tokenizer = AutoTokenizer.from_pretrained(model_name, padding = True, truncation = True)\n",
        "classifier = pipeline('sentiment-analysis', model=model, tokenizer=tokenizer)"
      ],
      "execution_count": 27,
      "outputs": []
    },
    {
      "cell_type": "code",
      "metadata": {
        "colab": {
          "base_uri": "https://localhost:8080/"
        },
        "id": "9k5SYjiUe0P_",
        "outputId": "d00a0834-356c-4529-940f-f0fc3c3c916b"
      },
      "source": [
        "for url, paper in zip(url_list, paper_list):\n",
        "  \n",
        "  # load data\n",
        "  dta = pd.read_csv(url)\n",
        "  dta = dta[dta.text == dta.text] # gets rid of missings\n",
        "  dta = dta.reset_index(drop=True)\n",
        "  dta[\"mig_sent\"] = np.nan\n",
        "  dta[\"mig_sent_sd\"] = np.nan\n",
        "  dta[\"mig_sent_n\"] = np.nan\n",
        "\n",
        "  for row in range(dta.shape[0]):\n",
        "\n",
        "    ## print progress\n",
        "    print(f\"\\r Row {row} of {dta.shape[0]}\", end=\"\")\n",
        "\n",
        "    ## split sentences from cleaned text\n",
        "    sentences = sent_tokenize(dta.loc[row, \"text\"].replace('„|”|\"', \" \").replace('!', \"! \").replace(':', \".\"))\n",
        "\n",
        "    ## filter sentences about migration    \n",
        "    rel_sents = []\n",
        "    for sent in sentences:\n",
        "      ### tokenize and lowercase tokens of the sentence\n",
        "      tokenized_sent = [word.lower() for word in word_tokenize(sent)]\n",
        "      ### if any item in the tokenized sentence is a keyword, append the original sentence\n",
        "      if any(keyw in tokenized_sent for keyw in mig_dict):\n",
        "          rel_sents.append(sent)\n",
        "\n",
        "    if len(rel_sents)>0:\n",
        "      ## estimate migration sentiment\n",
        "      results = classifier(rel_sents, truncation = True, padding = True)\n",
        "      estimates = []\n",
        "      for result in results:\n",
        "        if result[\"label\"] == \"positive\":\n",
        "          estimates.append(result[\"score\"])\n",
        "        elif result[\"label\"] == \"neutral\":\n",
        "          estimates.append(0)\n",
        "        elif result[\"label\"] == \"negative\":\n",
        "          estimates.append(result[\"score\"]*-1)\n",
        "    else:\n",
        "      estimates = [np.nan]\n",
        "\n",
        "    ## calculate mean, sd & n of sentences\n",
        "    dta.loc[row, \"mig_sent\"] = np.mean(estimates)\n",
        "    dta.loc[row, \"mig_sent_sd\"] = np.std(estimates)\n",
        "    dta.loc[row, \"mig_sent_n\"] = len(estimates)\n",
        "\n",
        "  # write to csv\n",
        "  dta.to_csv(\"\".join([\"drive/MyDrive/Bild/\", paper, \"_estimates.csv\"]))"
      ],
      "execution_count": null,
      "outputs": [
        {
          "output_type": "stream",
          "text": [
            " Row 293471 of 776354"
          ],
          "name": "stdout"
        }
      ]
    },
    {
      "cell_type": "markdown",
      "metadata": {
        "id": "9MUx6H2AWBvq"
      },
      "source": [
        "## Limitations\n",
        "This approach has the problem that the sentiment might not be directed at migration, but in fact talk about the horrible conditions of migration, or something else. Hence, a second approach might replace all migration-related terms with a single token, and track their correlation with specific terms or frames across time."
      ]
    }
  ]
}
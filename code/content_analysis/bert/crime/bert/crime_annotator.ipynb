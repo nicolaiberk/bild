{
  "nbformat": 4,
  "nbformat_minor": 0,
  "metadata": {
    "colab": {
      "provenance": [],
      "machine_shape": "hm",
      "authorship_tag": "ABX9TyMOAU0KONy0IKgih8g0nn9E",
      "include_colab_link": true
    },
    "kernelspec": {
      "name": "python3",
      "display_name": "Python 3"
    },
    "language_info": {
      "name": "python"
    },
    "accelerator": "GPU"
  },
  "cells": [
    {
      "cell_type": "markdown",
      "metadata": {
        "id": "view-in-github",
        "colab_type": "text"
      },
      "source": [
        "<a href=\"https://colab.research.google.com/github/nicolaiberk/bild/blob/main/code/content_analysis/bert/crime/bert/crime_annotator.ipynb\" target=\"_parent\"><img src=\"https://colab.research.google.com/assets/colab-badge.svg\" alt=\"Open In Colab\"/></a>"
      ]
    },
    {
      "cell_type": "code",
      "source": [
        "from google.colab import drive\n",
        "drive.mount('/content/drive')"
      ],
      "metadata": {
        "id": "z0caipRKPFTl"
      },
      "execution_count": null,
      "outputs": []
    },
    {
      "cell_type": "code",
      "source": [
        "!pip install transformers"
      ],
      "metadata": {
        "id": "1kT8rtg2z2ah"
      },
      "execution_count": null,
      "outputs": []
    },
    {
      "cell_type": "code",
      "source": [
        "import os\n",
        "import pandas as pd\n",
        "import csv\n",
        "import sys\n",
        "import numpy as np\n",
        "\n",
        "\n",
        "# parameters\n",
        "clsfr_path = \"drive/MyDrive/Bild/crime_clsfr_BERT_torch\"\n",
        "input_path = \"https://www.dropbox.com/s/ousyjlju18fopny/_migration_articles_BERT.csv?dl=1\"\n",
        "output_path = \"drive/MyDrive/Bild/crime_annotations.csv\"\n",
        "batch_size = 16\n",
        "\n",
        "# load classifier and tokenizer\n",
        "from transformers import AutoModelForSequenceClassification, AutoTokenizer, pipeline\n",
        "model = AutoModelForSequenceClassification.from_pretrained(clsfr_path)\n",
        "tokenizer = AutoTokenizer.from_pretrained('distilbert-base-german-cased', model_max_length = 512)\n",
        "classifier = pipeline('text-classification', model=model, tokenizer=tokenizer, device = 0, padding='max_length', truncation=True)"
      ],
      "metadata": {
        "id": "awnHKPYLzdLw"
      },
      "execution_count": null,
      "outputs": []
    },
    {
      "cell_type": "markdown",
      "source": [
        "Sanity Check:"
      ],
      "metadata": {
        "id": "1G3nIYQyBw_o"
      }
    },
    {
      "cell_type": "code",
      "source": [
        "# Test model\n",
        "text = \"Die Polizei hat gestern zwei Flüchtige nach einem Bankraub festgenommen. Nach einem kurzen Schusswechsel konnten die mutmaßlichen Täter überwältigt und festegnommen werden. Die Staatsanwaltschaft ermittelt.\"\n",
        "classifier(text)"
      ],
      "metadata": {
        "id": "E1MJthPR2BwE"
      },
      "execution_count": null,
      "outputs": []
    },
    {
      "cell_type": "code",
      "source": [
        "text = \"Schleswig-Holstein hat einen neuen Landtag gewählt. Mit dem vorläufigen Endergebnis kommt die CDU als stärkste Kraft auf 43,4 Prozent der Stimmen, die SPD erreicht 16 Prozent, die Grünen sind zweitstärkste Kraft mit 18,3 Prozent.\"\n",
        "classifier(text)"
      ],
      "metadata": {
        "id": "5aJb5zyzBhMy"
      },
      "execution_count": null,
      "outputs": []
    },
    {
      "cell_type": "markdown",
      "source": [
        "Looking good."
      ],
      "metadata": {
        "id": "CyK7OBd4B05u"
      }
    },
    {
      "cell_type": "code",
      "source": [
        "mig_articles = pd.read_csv(input_path)"
      ],
      "metadata": {
        "id": "liZ2-l4yCHpQ"
      },
      "execution_count": null,
      "outputs": []
    },
    {
      "cell_type": "code",
      "source": [
        "mig_articles.head()"
      ],
      "metadata": {
        "id": "IICr9x8TCOSK"
      },
      "execution_count": null,
      "outputs": []
    },
    {
      "cell_type": "code",
      "execution_count": null,
      "metadata": {
        "id": "_wVlybGNzV4B"
      },
      "outputs": [],
      "source": [
        "mig_articles[\"crime\"] = classifier([article for article in mig_articles.text])"
      ]
    },
    {
      "cell_type": "code",
      "source": [
        "import re\n",
        "int(re.match('LABEL_(\\d)', 'LABEL_0').group(1))\n"
      ],
      "metadata": {
        "id": "ppyf0vqZM4ge"
      },
      "execution_count": null,
      "outputs": []
    },
    {
      "cell_type": "code",
      "source": [
        "# clean\n",
        "labels = []\n",
        "prob = []\n",
        "for dt in mig_articles.crime:\n",
        "  labels.append(int(re.match('LABEL_(\\d)', dt['label']).group(1)))\n",
        "  prob.append(float(dt['score']))\n",
        "\n",
        "mig_articles['crime_label'] = labels\n",
        "mig_articles['crime_prob'] = prob"
      ],
      "metadata": {
        "id": "qn_Wz2WkMB8Z"
      },
      "execution_count": null,
      "outputs": []
    },
    {
      "cell_type": "code",
      "source": [
        "mig_articles.to_csv(output_path)"
      ],
      "metadata": {
        "id": "tk1S1hDuHIG9"
      },
      "execution_count": null,
      "outputs": []
    },
    {
      "cell_type": "code",
      "source": [
        "mig_articles.head()"
      ],
      "metadata": {
        "id": "VE4mNwYOL7cB"
      },
      "execution_count": null,
      "outputs": []
    }
  ]
}